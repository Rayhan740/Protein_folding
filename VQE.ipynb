{
 "cells": [
  {
   "cell_type": "code",
   "execution_count": 1,
   "id": "75572dd9-8898-4c32-9426-62b26e7cf6e5",
   "metadata": {
    "tags": []
   },
   "outputs": [
    {
     "name": "stdout",
     "output_type": "stream",
     "text": [
      "Collecting pennylane\n",
      "  Using cached PennyLane-0.31.0-py3-none-any.whl (1.4 MB)\n",
      "Requirement already satisfied: numpy<1.24 in /opt/conda/lib/python3.10/site-packages (from pennylane) (1.23.5)\n",
      "Requirement already satisfied: appdirs in /opt/conda/lib/python3.10/site-packages (from pennylane) (1.4.4)\n",
      "Collecting pennylane-lightning>=0.31\n",
      "  Using cached PennyLane_Lightning-0.31.0-cp310-cp310-manylinux_2_17_x86_64.manylinux2014_x86_64.whl (16.6 MB)\n",
      "Requirement already satisfied: networkx in /opt/conda/lib/python3.10/site-packages (from pennylane) (2.8.8)\n",
      "Requirement already satisfied: rustworkx in /opt/conda/lib/python3.10/site-packages (from pennylane) (0.12.1)\n",
      "Collecting cachetools\n",
      "  Using cached cachetools-5.3.1-py3-none-any.whl (9.3 kB)\n",
      "Collecting autograd<=1.5\n",
      "  Using cached autograd-1.5-py3-none-any.whl (48 kB)\n",
      "Collecting toml\n",
      "  Using cached toml-0.10.2-py2.py3-none-any.whl (16 kB)\n",
      "Requirement already satisfied: scipy<=1.10 in /opt/conda/lib/python3.10/site-packages (from pennylane) (1.9.3)\n",
      "Requirement already satisfied: requests in /opt/conda/lib/python3.10/site-packages (from pennylane) (2.28.1)\n",
      "Collecting autoray>=0.3.1\n",
      "  Using cached autoray-0.6.3-py3-none-any.whl (48 kB)\n",
      "Collecting semantic-version>=2.7\n",
      "  Using cached semantic_version-2.10.0-py2.py3-none-any.whl (15 kB)\n",
      "Requirement already satisfied: future>=0.15.2 in /opt/conda/lib/python3.10/site-packages (from autograd<=1.5->pennylane) (0.18.3)\n",
      "Requirement already satisfied: certifi>=2017.4.17 in /opt/conda/lib/python3.10/site-packages (from requests->pennylane) (2022.9.24)\n",
      "Requirement already satisfied: idna<4,>=2.5 in /opt/conda/lib/python3.10/site-packages (from requests->pennylane) (3.4)\n",
      "Requirement already satisfied: urllib3<1.27,>=1.21.1 in /opt/conda/lib/python3.10/site-packages (from requests->pennylane) (1.26.13)\n",
      "Requirement already satisfied: charset-normalizer<3,>=2 in /opt/conda/lib/python3.10/site-packages (from requests->pennylane) (2.1.1)\n",
      "Installing collected packages: toml, semantic-version, cachetools, autoray, autograd, pennylane-lightning, pennylane\n",
      "Successfully installed autograd-1.5 autoray-0.6.3 cachetools-5.3.1 pennylane-0.31.0 pennylane-lightning-0.31.0 semantic-version-2.10.0 toml-0.10.2\n",
      "\n",
      "\u001b[1m[\u001b[0m\u001b[34;49mnotice\u001b[0m\u001b[1;39;49m]\u001b[0m\u001b[39;49m A new release of pip available: \u001b[0m\u001b[31;49m23.1.1\u001b[0m\u001b[39;49m -> \u001b[0m\u001b[32;49m23.1.2\u001b[0m\n",
      "\u001b[1m[\u001b[0m\u001b[34;49mnotice\u001b[0m\u001b[1;39;49m]\u001b[0m\u001b[39;49m To update, run: \u001b[0m\u001b[32;49mpip install --upgrade pip\u001b[0m\n"
     ]
    }
   ],
   "source": [
    "!pip install pennylane"
   ]
  },
  {
   "cell_type": "code",
   "execution_count": 2,
   "id": "2229af4c-15a3-4d6f-b7be-cf6ff6369487",
   "metadata": {
    "tags": []
   },
   "outputs": [],
   "source": [
    "from pennylane import numpy as np\n",
    "\n",
    "symbols = [\"A\",\"P\",\"R\",\"L\",\"R\",\"F\",\"R\",\"Y\",\"L\",\"A\"] # for H2 atom\n",
    "coordinates = np.array([0.0,0.0,0.0, 0.5773502691896258, 0.5773502691896258, -0.5773502691896258, \n",
    "                       1.1547005383792517, 0.0, -1.1547005383792517, 1.7320508075688776, -0.5773502691896258, -0.5773502691896258,\n",
    "                       1.154700538379252, -1.1547005383792517, 0.0, 1.7320508075688776, -1.7320508075688776, 0.5773502691896258,\n",
    "                       1.154700538379252, -2.3094010767585034, 1.1547005383792517, 0.5773502691896261, -2.886751345948129, 0.5773502691896258,\n",
    "                       1.7320508075688776, 0.5773502691896258, -0.5773502691896258,1.7320508075688776, -1.7320508075688776, -0.5773502691896258])"
   ]
  },
  {
   "cell_type": "code",
   "execution_count": 3,
   "id": "e393ca40-327c-4218-81b8-76f18a4e194f",
   "metadata": {
    "tags": []
   },
   "outputs": [
    {
     "data": {
      "text/plain": [
       "tensor([ 0.        ,  0.        ,  0.        ,  0.57735027,  0.57735027,\n",
       "        -0.57735027,  1.15470054,  0.        , -1.15470054,  1.73205081,\n",
       "        -0.57735027, -0.57735027,  1.15470054, -1.15470054,  0.        ,\n",
       "         1.73205081, -1.73205081,  0.57735027,  1.15470054, -2.30940108,\n",
       "         1.15470054,  0.57735027, -2.88675135,  0.57735027,  1.73205081,\n",
       "         0.57735027, -0.57735027,  1.73205081, -1.73205081, -0.57735027], requires_grad=True)"
      ]
     },
     "execution_count": 3,
     "metadata": {},
     "output_type": "execute_result"
    }
   ],
   "source": [
    "coordinates"
   ]
  },
  {
   "cell_type": "code",
   "execution_count": 7,
   "id": "a5d66efe-9eef-4da9-be12-3f06d7a68f1f",
   "metadata": {
    "tags": []
   },
   "outputs": [
    {
     "name": "stdout",
     "output_type": "stream",
     "text": [
      "Traceback \u001b[1;36m(most recent call last)\u001b[0m:\n",
      "\u001b[0m  Cell \u001b[0;32mIn[7], line 3\u001b[0m\n",
      "    H, qubits = qml.qchem.molecular_hamiltonian(symbols, coordinates)\u001b[0m\n",
      "\u001b[0m  File \u001b[0;32m/opt/conda/lib/python3.10/site-packages/pennylane/qchem/openfermion_obs.py:957\u001b[0m in \u001b[0;35mmolecular_hamiltonian\u001b[0m\n",
      "    mol = qml.qchem.Molecule(\u001b[0m\n",
      "\u001b[1;36m  File \u001b[1;32m/opt/conda/lib/python3.10/site-packages/pennylane/qchem/molecule.py:94\u001b[1;36m in \u001b[1;35m__init__\u001b[1;36m\n",
      "\u001b[1;33m    raise ValueError(f\"Atoms in {set(symbols) - set(atomic_numbers)} are not supported.\")\u001b[1;36m\n",
      "\u001b[1;31mValueError\u001b[0m\u001b[1;31m:\u001b[0m Atoms in {'R', 'P', 'L', 'A', 'Y'} are not supported.\n",
      "\n",
      "Use %tb to get the full traceback.\n"
     ]
    },
    {
     "data": {
      "text/html": [
       "\n",
       "<style>\n",
       ".button {\n",
       "  border: none;\n",
       "  color: white;\n",
       "  padding: 4px 8px;\n",
       "  text-align: center;\n",
       "  text-decoration: none;\n",
       "  display: inline-block;\n",
       "  font-size: 12px;\n",
       "  margin: 4px 2px;\n",
       "  transition-duration: 0.2s;\n",
       "  cursor: pointer;\n",
       "}\n",
       ".iqx-button {\n",
       "  background-color: #0f62fe; \n",
       "  color: white; \n",
       "}\n",
       ".iqx-button:hover {\n",
       "  background-color: #0043ce;\n",
       "  color: white;\n",
       "}\n",
       "</style>\n",
       "<a href=\"https://stackoverflow.com/search?q=ValueError: Atoms in {'R', 'P', 'L', 'A', 'Y'} are not supported.\" target='_blank'><button class='button iqx-button'>Search for solution online</button></a>\n"
      ],
      "text/plain": [
       "<IPython.core.display.HTML object>"
      ]
     },
     "metadata": {},
     "output_type": "display_data"
    }
   ],
   "source": [
    "import pennylane as qml\n",
    "\n",
    "H, qubits = qml.qchem.molecular_hamiltonian(symbols, coordinates)\n",
    "print(\"Number of qubits = \", qubits)\n",
    "print(\"The Hamiltonian is\", H)"
   ]
  },
  {
   "cell_type": "code",
   "execution_count": 5,
   "id": "1e38edd5-b3f3-4087-9717-60c4651bb8db",
   "metadata": {
    "tags": []
   },
   "outputs": [],
   "source": [
    "dev = qml.device(\"default.qubit\", wires=qubits)"
   ]
  },
  {
   "cell_type": "code",
   "execution_count": 6,
   "id": "6dd76d9c-b8dc-4008-b00b-2315deeefa19",
   "metadata": {
    "tags": []
   },
   "outputs": [
    {
     "name": "stdout",
     "output_type": "stream",
     "text": [
      "[1 1 0 0]\n"
     ]
    }
   ],
   "source": [
    "electrons = 2\n",
    "hf = qml.qchem.hf_state(electrons, qubits) # Hartree-Fock State\n",
    "print(hf)"
   ]
  },
  {
   "cell_type": "code",
   "execution_count": 7,
   "id": "bc5e0b82-2e0e-4e95-87ad-39f29ef1dbb2",
   "metadata": {
    "tags": []
   },
   "outputs": [],
   "source": [
    "def circuit(param, wires):\n",
    "    qml.BasisState(hf, wires=wires)\n",
    "    qml.DoubleExcitation(param, wires=[0,1,2,3])"
   ]
  },
  {
   "cell_type": "code",
   "execution_count": 8,
   "id": "c3096e2a-2af9-44af-831d-49d888351605",
   "metadata": {
    "tags": []
   },
   "outputs": [],
   "source": [
    "@qml.qnode(dev, interface='autograd')\n",
    "\n",
    "def cost_fn(param):\n",
    "    circuit(param, wires=range(qubits))\n",
    "    return qml.expval(H)"
   ]
  },
  {
   "cell_type": "code",
   "execution_count": 9,
   "id": "02522595-353e-4bf9-8813-9c8a4be31051",
   "metadata": {
    "tags": []
   },
   "outputs": [],
   "source": [
    "opt = qml.GradientDescentOptimizer(stepsize=0.4)"
   ]
  },
  {
   "cell_type": "code",
   "execution_count": 10,
   "id": "d1bc1668-c34c-4c2d-802c-b140f52b24ae",
   "metadata": {
    "tags": []
   },
   "outputs": [],
   "source": [
    "theta = np.array(0.0, requires_grad=True)"
   ]
  },
  {
   "cell_type": "code",
   "execution_count": 11,
   "id": "9f3a64dd-d22a-427b-b426-71c3938cb94d",
   "metadata": {
    "tags": []
   },
   "outputs": [
    {
     "name": "stdout",
     "output_type": "stream",
     "text": [
      "Step = 0,  Energy = -1.12799983 Ha\n",
      "Step = 2,  Energy = -1.13466246 Ha\n",
      "Step = 4,  Energy = -1.13590595 Ha\n",
      "Step = 6,  Energy = -1.13613667 Ha\n",
      "Step = 8,  Energy = -1.13617944 Ha\n",
      "Step = 10,  Energy = -1.13618736 Ha\n",
      "Step = 12,  Energy = -1.13618883 Ha\n",
      "\n",
      "Final value of the ground-state energy = -1.13618883 Ha\n",
      "\n",
      "Optimal value of the circuit parameter = 0.2089\n"
     ]
    }
   ],
   "source": [
    "# store the values of the cost function\n",
    "energy = [cost_fn(theta)]\n",
    "\n",
    "# store the values of the circuit parameter\n",
    "angle = [theta]\n",
    "\n",
    "max_iterations = 100\n",
    "conv_tol = 1e-06\n",
    "\n",
    "for n in range(max_iterations):\n",
    "    theta, prev_energy = opt.step_and_cost(cost_fn, theta)\n",
    "\n",
    "    energy.append(cost_fn(theta))\n",
    "    angle.append(theta)\n",
    "\n",
    "    conv = np.abs(energy[-1] - prev_energy)\n",
    "\n",
    "    if n % 2 == 0:\n",
    "        print(f\"Step = {n},  Energy = {energy[-1]:.8f} Ha\")\n",
    "\n",
    "    if conv <= conv_tol:\n",
    "        break\n",
    "\n",
    "print(\"\\n\" f\"Final value of the ground-state energy = {energy[-1]:.8f} Ha\")\n",
    "print(\"\\n\" f\"Optimal value of the circuit parameter = {angle[-1]:.4f}\")"
   ]
  },
  {
   "cell_type": "code",
   "execution_count": 12,
   "id": "e3c5d72d-4521-4ad4-8044-a400d90c5373",
   "metadata": {
    "tags": []
   },
   "outputs": [
    {
     "data": {
      "image/png": "[encoded data removed]",
      "text/plain": [
       "<Figure size 1200x500 with 2 Axes>"
      ]
     },
     "metadata": {},
     "output_type": "display_data"
    }
   ],
   "source": [
    "import matplotlib.pyplot as plt\n",
    "\n",
    "fig = plt.figure()\n",
    "fig.set_figheight(5)\n",
    "fig.set_figwidth(12)\n",
    "\n",
    "# Full configuration interaction (FCI) energy computed classically\n",
    "E_fci = -1.136189454088\n",
    "\n",
    "# Add energy plot on column 1\n",
    "ax1 = fig.add_subplot(121)\n",
    "ax1.plot(range(n + 2), energy, \"go\", ls=\"dashed\")\n",
    "ax1.plot(range(n + 2), np.full(n + 2, E_fci), color=\"red\")\n",
    "ax1.set_xlabel(\"Optimization step\", fontsize=13)\n",
    "ax1.set_ylabel(\"Energy (Hartree)\", fontsize=13)\n",
    "ax1.text(0.5, -1.1176, r\"$E_\\mathrm{HF}$\", fontsize=15)\n",
    "ax1.text(0, -1.1357, r\"$E_\\mathrm{FCI}$\", fontsize=15)\n",
    "plt.xticks(fontsize=12)\n",
    "plt.yticks(fontsize=12)\n",
    "\n",
    "# Add angle plot on column 2\n",
    "ax2 = fig.add_subplot(122)\n",
    "ax2.plot(range(n + 2), angle, \"go\", ls=\"dashed\")\n",
    "ax2.set_xlabel(\"Optimization step\", fontsize=13)\n",
    "ax2.set_ylabel(\"Gate parameter $\\\\theta$ (rad)\", fontsize=13)\n",
    "plt.xticks(fontsize=12)\n",
    "plt.yticks(fontsize=12)\n",
    "\n",
    "plt.subplots_adjust(wspace=0.3, bottom=0.2)\n",
    "plt.show()"
   ]
  }
 ],
 "metadata": {
  "kernelspec": {
   "display_name": "Python 3 (ipykernel)",
   "language": "python",
   "name": "python3"
  },
  "language_info": {
   "codemirror_mode": {
    "name": "ipython",
    "version": 3
   },
   "file_extension": ".py",
   "mimetype": "text/x-python",
   "name": "python",
   "nbconvert_exporter": "python",
   "pygments_lexer": "ipython3",
   "version": "3.10.8"
  },
  "widgets": {
   "application/vnd.jupyter.widget-state+json": {
    "state": {},
    "version_major": 2,
    "version_minor": 0
   }
  }
 },
 "nbformat": 4,
 "nbformat_minor": 5
}
